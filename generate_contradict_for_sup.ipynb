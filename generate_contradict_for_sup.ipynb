{
 "cells": [
  {
   "cell_type": "code",
   "execution_count": 1,
   "metadata": {},
   "outputs": [],
   "source": [
    "import spacy\n",
    "from tqdm import tqdm\n",
    "nlp = spacy.load('ja_ginza')"
   ]
  },
  {
   "cell_type": "code",
   "execution_count": 2,
   "metadata": {},
   "outputs": [],
   "source": [
    "sentences = []\n",
    "for line in open('/home/chen/T5_mask_infilling/clinic_corpus.txt', 'r'):\n",
    "    if line is not None:\n",
    "        sentences.append(line.strip())"
   ]
  },
  {
   "cell_type": "code",
   "execution_count": 3,
   "metadata": {},
   "outputs": [
    {
     "data": {
      "text/plain": [
       "11832"
      ]
     },
     "execution_count": 3,
     "metadata": {},
     "output_type": "execute_result"
    }
   ],
   "source": [
    "len(sentences)"
   ]
  },
  {
   "cell_type": "code",
   "execution_count": 4,
   "metadata": {},
   "outputs": [],
   "source": [
    "import torch\n",
    "from transformers import T5Tokenizer, T5Config, T5ForConditionalGeneration\n",
    "\n",
    "T5_PATH = '/home/chen/T5_mask_infilling/torch_model_clinic' \n",
    "\n",
    "DEVICE = torch.device('cuda' if torch.cuda.is_available() else 'cpu') \n",
    "\n",
    "\n",
    "t5_tokenizer = T5Tokenizer.from_pretrained(T5_PATH)\n",
    "t5_config = T5Config.from_pretrained(T5_PATH)\n",
    "t5_mlm = T5ForConditionalGeneration.from_pretrained(T5_PATH, config=t5_config).to(DEVICE)"
   ]
  },
  {
   "cell_type": "code",
   "execution_count": 5,
   "metadata": {},
   "outputs": [],
   "source": [
    "def _filter(output, end_token='<extra_id_1>'):\n",
    "    # The first token is <unk> (inidex at 0) and the second token is <extra_id_0> (indexed at 32099)\n",
    "    _txt = t5_tokenizer.decode(output[2:], skip_special_tokens=True, clean_up_tokenization_spaces=False)\n",
    "    if end_token in _txt:\n",
    "        _end_token_index = _txt.index(end_token)\n",
    "        return _result_prefix + _txt[:_end_token_index] + _result_suffix\n",
    "    else:\n",
    "        return _result_prefix + _txt + _result_suffix"
   ]
  },
  {
   "cell_type": "markdown",
   "metadata": {},
   "source": [
    "gen_list = []\n",
    "for i in tqdm(range(len(sentences))):\n",
    "    noun_tokens = []\n",
    "    input_text = sentences[i]\n",
    "    re_input_text = input_text\n",
    "    doc = nlp(input_text)\n",
    "    for np in doc.noun_chunks:\n",
    "        noun_tokens.append(np.text)\n",
    "    \n",
    "                    \n",
    "    for i in range(len(noun_tokens)):\n",
    "            new_text = re_input_text.replace(noun_tokens[i], '<extra_id_0>', 1)\n",
    "            encoded = t5_tokenizer(new_text, add_special_tokens=True, return_tensors='pt', \n",
    "                       padding = 'max_length', truncation = True, max_length = 64)\n",
    "            input_ids = encoded['input_ids'].to(DEVICE)\n",
    "        \n",
    "            outputs = t5_mlm.generate(input_ids = input_ids, \n",
    "                          num_beams=200, num_return_sequences=2,\n",
    "                          max_length=15)\n",
    "\n",
    "            _0_index = new_text.index('<extra_id_0>')\n",
    "            _result_prefix = new_text[:_0_index]\n",
    "            _result_suffix = new_text[_0_index+12:]  # 12 is the length of <extra_id_0>\n",
    "\n",
    "            results = list(map(_filter, outputs))\n",
    "            re_input_text = results[1]\n",
    "            \n",
    "    gen_list.append(re_input_text)"
   ]
  },
  {
   "cell_type": "raw",
   "metadata": {},
   "source": [
    "from itertools import groupby\n",
    "from operator import itemgetter\n",
    "\n",
    "gen_list = []\n",
    "for i in tqdm(range(len(sentences)-11830)):\n",
    "    noun_tokens = []\n",
    "    input_text = sentences[i]\n",
    "    re_input_text = input_text\n",
    "    doc = nlp(input_text)\n",
    "    masked_idx = []\n",
    "    for token in doc:\n",
    "        if token.pos_ == 'NOUN':\n",
    "            masked_idx.append(token.i)\n",
    "    \n",
    "    masked_chunk = []\n",
    "    \n",
    "    for  k, g in groupby(enumerate(masked_idx), lambda ix : ix[0] - ix[1]):\n",
    "        masked_chunk.append(list(map(itemgetter(1), g)))      \n",
    "    \n",
    "    for i in range(len(masked_chunk)):\n",
    "        chunk = masked_chunk[i]\n",
    "        start_idx = chunk[0]\n",
    "        end_idx = chunk[-1]\n",
    "        span = doc[start_idx:end_idx+1]\n",
    "        noun_tokens.append(span.text)\n",
    "                    \n",
    "    for i in range(len(noun_tokens)):\n",
    "            new_text = re_input_text.replace(noun_tokens[i], '<extra_id_0>', 1)\n",
    "            encoded = t5_tokenizer(new_text, add_special_tokens=True, return_tensors='pt', \n",
    "                       padding = 'max_length', truncation = True, max_length = 64)\n",
    "            input_ids = encoded['input_ids'].to(DEVICE)\n",
    "        \n",
    "            outputs = t5_mlm.generate(input_ids = input_ids, \n",
    "                          num_beams=200, num_return_sequences=3,\n",
    "                          max_length=15)\n",
    "\n",
    "            _0_index = new_text.index('<extra_id_0>')\n",
    "            _result_prefix = new_text[:_0_index]\n",
    "            _result_suffix = new_text[_0_index+12:]  # 12 is the length of <extra_id_0>\n",
    "\n",
    "            results = list(map(_filter, outputs))\n",
    "            re_input_text = results[0]\n",
    "            \n",
    "    gen_list.append(re_input_text)   "
   ]
  },
  {
   "cell_type": "code",
   "execution_count": 23,
   "metadata": {},
   "outputs": [],
   "source": [
    "file_out = 'gen_contradict_forsup.txt'\n",
    "with open(file_out, 'w', encoding = 'utf-8') as f:\n",
    "    for i in range(len(gen_list)):\n",
    "        f.write(gen_list[i].strip() + '\\n')\n",
    "     \n",
    "    \n",
    "f.close() "
   ]
  },
  {
   "cell_type": "code",
   "execution_count": null,
   "metadata": {},
   "outputs": [],
   "source": []
  }
 ],
 "metadata": {
  "kernelspec": {
   "display_name": "pytorch",
   "language": "python",
   "name": "pytorch"
  },
  "language_info": {
   "codemirror_mode": {
    "name": "ipython",
    "version": 3
   },
   "file_extension": ".py",
   "mimetype": "text/x-python",
   "name": "python",
   "nbconvert_exporter": "python",
   "pygments_lexer": "ipython3",
   "version": "3.8.11"
  }
 },
 "nbformat": 4,
 "nbformat_minor": 4
}
