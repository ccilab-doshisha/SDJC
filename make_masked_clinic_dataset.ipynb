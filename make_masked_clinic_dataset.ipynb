{
 "cells": [
  {
   "cell_type": "code",
   "execution_count": 1,
   "metadata": {},
   "outputs": [],
   "source": [
    "import spacy\n",
    "import math\n",
    "from random import randint\n",
    "from tqdm import tqdm\n",
    "nlp = spacy.load('ja_ginza')"
   ]
  },
  {
   "cell_type": "code",
   "execution_count": 2,
   "metadata": {},
   "outputs": [],
   "source": [
    "mask_ratio = 0.15\n",
    "span_length = 3"
   ]
  },
  {
   "cell_type": "code",
   "execution_count": 3,
   "metadata": {},
   "outputs": [],
   "source": [
    "input_list = []\n",
    "target_list = []\n",
    "sentences = []\n",
    "for line in open('/home/chen/T5_mask_infilling/clinic_corpus.txt', 'r'):\n",
    "    if line is not None:\n",
    "        sentences.append(line.strip())\n",
    "        "
   ]
  },
  {
   "cell_type": "code",
   "execution_count": 4,
   "metadata": {},
   "outputs": [
    {
     "data": {
      "text/plain": [
       "11832"
      ]
     },
     "execution_count": 4,
     "metadata": {},
     "output_type": "execute_result"
    }
   ],
   "source": [
    "len(sentences)"
   ]
  },
  {
   "cell_type": "code",
   "execution_count": 7,
   "metadata": {},
   "outputs": [
    {
     "name": "stderr",
     "output_type": "stream",
     "text": [
      "100%|█████████████████████████████████████| 11832/11832 [03:59<00:00, 49.38it/s]\n"
     ]
    }
   ],
   "source": [
    "for i in tqdm(range(len(sentences))):    \n",
    "    \n",
    "    doc = nlp(sentences[i])\n",
    "    mask_token = math.ceil(len(doc)*mask_ratio)\n",
    "    chunk_num = math.ceil(mask_token/span_length)\n",
    "    \n",
    "    assert chunk_num != 0\n",
    "    \n",
    "    index_sequence = [i for i in range(len(doc)-span_length+1)]\n",
    "    for i in range(len(index_sequence)):\n",
    "        index_sequence[i] = [i for i in range(i,i+span_length)] \n",
    "        \n",
    "    mask_index = []\n",
    "    while chunk_num > 0:\n",
    "        index_sequence_length = len(index_sequence)\n",
    "        masked_spans = index_sequence[randint(0,index_sequence_length-1)]\n",
    "        mask_index.extend(masked_spans)\n",
    "        index_id = index_sequence.index(masked_spans)\n",
    "        del index_sequence[index_id-span_length+1:index_id+span_length]\n",
    "        chunk_num = chunk_num - 1    \n",
    "        \n",
    "    mask_index.sort()\n",
    "    \n",
    "    text_sequence = [i for i in range(len(doc))]\n",
    "    unmask_index = list(set(text_sequence) - set(mask_index))\n",
    "    \n",
    "    unmask_index.sort()\n",
    "    \n",
    "    input_text = [None] * len(doc)\n",
    "    for i in unmask_index:\n",
    "        input_text[i] = doc[i]\n",
    "        \n",
    "        \n",
    "    re_input_text = []\n",
    "    for i in range(len(input_text)-1):\n",
    "        if str(input_text[i]) == 'None' and str(input_text[i+1]) == 'None':\n",
    "            pass\n",
    "        else:\n",
    "            re_input_text.append(input_text[i])\n",
    "        i+=2               \n",
    "\n",
    "    re_input_text.append(input_text[len(input_text)-1])   \n",
    "    \n",
    "    sent_token_id = 0\n",
    "    for i in range(len(re_input_text)):\n",
    "        if str(re_input_text[i]) == 'None':\n",
    "            re_input_text[i] = f'<extra_id_{sent_token_id}>'\n",
    "            sent_token_id += 1  \n",
    "            \n",
    "    inputs = ''.join(str(e) for e in re_input_text)    \n",
    "    \n",
    "    target_text = [None] * len(doc)\n",
    "    for i in mask_index:\n",
    "        target_text[i] = doc[i]\n",
    "        \n",
    "        \n",
    "    re_target_text = []\n",
    "    for i in range(len(target_text)-1):\n",
    "        if str(target_text[i]) == 'None' and str(target_text[i+1]) == 'None':\n",
    "            pass\n",
    "        else:\n",
    "            re_target_text.append(target_text[i])\n",
    "        i+=2               \n",
    "\n",
    "    re_target_text.append(target_text[len(target_text)-1])    \n",
    "    \n",
    "    sent_token_id = 0\n",
    "    for i in range(len(re_target_text)):\n",
    "        if str(re_target_text[i]) == 'None':\n",
    "            re_target_text[i] = f'<extra_id_{sent_token_id}>'\n",
    "            sent_token_id += 1 \n",
    "            \n",
    "    targets = ''.join(str(e) for e in re_target_text)  \n",
    "    \n",
    "    input_list.append(inputs)\n",
    "    target_list.append(targets)"
   ]
  },
  {
   "cell_type": "code",
   "execution_count": 8,
   "metadata": {},
   "outputs": [],
   "source": [
    "assert len(input_list) == len(target_list)"
   ]
  },
  {
   "cell_type": "code",
   "execution_count": 9,
   "metadata": {},
   "outputs": [
    {
     "data": {
      "text/plain": [
       "'胸腔ドレーンは徐々に浅くし,場合によりネラトンカテーテルに入れ替え菌の陰性化を確認し<extra_id_0>'"
      ]
     },
     "execution_count": 9,
     "metadata": {},
     "output_type": "execute_result"
    }
   ],
   "source": [
    "input_list[500]"
   ]
  },
  {
   "cell_type": "code",
   "execution_count": 10,
   "metadata": {},
   "outputs": [
    {
     "data": {
      "text/plain": [
       "'<extra_id_0>てから抜去した.'"
      ]
     },
     "execution_count": 10,
     "metadata": {},
     "output_type": "execute_result"
    }
   ],
   "source": [
    "target_list[500]"
   ]
  },
  {
   "cell_type": "code",
   "execution_count": 11,
   "metadata": {},
   "outputs": [
    {
     "data": {
      "text/plain": [
       "'保存療法の効果が乏しい場合や疼痛<extra_id_0>,骨<extra_id_1>が激しい場合には手術療法も選択されている.'"
      ]
     },
     "execution_count": 11,
     "metadata": {},
     "output_type": "execute_result"
    }
   ],
   "source": [
    "input_list[1000]"
   ]
  },
  {
   "cell_type": "code",
   "execution_count": 12,
   "metadata": {},
   "outputs": [
    {
     "data": {
      "text/plain": [
       "'<extra_id_0>が強い場合<extra_id_1>破壊,変形<extra_id_2>'"
      ]
     },
     "execution_count": 12,
     "metadata": {},
     "output_type": "execute_result"
    }
   ],
   "source": [
    "target_list[1000]"
   ]
  },
  {
   "cell_type": "code",
   "execution_count": 13,
   "metadata": {},
   "outputs": [],
   "source": [
    "file_out = '/home/chen/T5_mask_infilling/masked_clinic_corpus.txt'\n",
    "with open(file_out, 'w', encoding = 'utf-8') as f:\n",
    "    for i in range(len(input_list)):\n",
    "        f.write(input_list[i].strip() + '\\t' +target_list[i].strip() + '\\n')\n",
    "     \n",
    "        \n",
    "f.close() "
   ]
  },
  {
   "cell_type": "code",
   "execution_count": null,
   "metadata": {},
   "outputs": [],
   "source": []
  }
 ],
 "metadata": {
  "kernelspec": {
   "display_name": "pytorch",
   "language": "python",
   "name": "pytorch"
  },
  "language_info": {
   "codemirror_mode": {
    "name": "ipython",
    "version": 3
   },
   "file_extension": ".py",
   "mimetype": "text/x-python",
   "name": "python",
   "nbconvert_exporter": "python",
   "pygments_lexer": "ipython3",
   "version": "3.8.11"
  }
 },
 "nbformat": 4,
 "nbformat_minor": 4
}
